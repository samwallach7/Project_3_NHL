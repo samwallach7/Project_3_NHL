{
 "cells": [
  {
   "cell_type": "code",
   "execution_count": null,
   "metadata": {},
   "outputs": [],
   "source": []
  },
  {
   "cell_type": "markdown",
   "metadata": {},
   "source": [
    "Extract"
   ]
  },
  {
   "cell_type": "code",
   "execution_count": null,
   "metadata": {},
   "outputs": [],
   "source": [
    "import requests\n",
    "import pandas as pd\n",
    "\n",
    "def fetch_and_inspect_api_data():\n",
    "    url = 'https://api.sportsdata.io/v3/nhl/scores/json/Players?key=3341e08d061e4fcdbbbef942d86962c1'\n",
    "    response = requests.get(url)\n",
    "    if response.status_code == 200:\n",
    "        data = response.json()  # Convert the response to JSON\n",
    "        \n",
    "        # Convert the data to a pandas DataFrame for inspection\n",
    "        df = pd.DataFrame(data)\n",
    "        \n",
    "        # Inspect the first few rows of the DataFrame\n",
    "        print(df.head())\n",
    "        \n",
    "        return df\n",
    "    else:\n",
    "        print(\"Failed to retrieve data from the API\")\n",
    "        return None\n",
    "\n",
    "# Now, call the function to fetch the data and inspect it\n",
    "players_active_df = fetch_and_inspect_api_data()\n"
   ]
  },
  {
   "cell_type": "code",
   "execution_count": 6,
   "metadata": {},
   "outputs": [
    {
     "name": "stdout",
     "output_type": "stream",
     "text": [
      "<class 'pandas.core.frame.DataFrame'>\n",
      "RangeIndex: 1857 entries, 0 to 1856\n",
      "Data columns (total 43 columns):\n",
      " #   Column                               Non-Null Count  Dtype  \n",
      "---  ------                               --------------  -----  \n",
      " 0   PlayerID                             1857 non-null   int64  \n",
      " 1   FirstName                            1857 non-null   object \n",
      " 2   LastName                             1857 non-null   object \n",
      " 3   Status                               1857 non-null   object \n",
      " 4   TeamID                               1857 non-null   int64  \n",
      " 5   Team                                 1857 non-null   object \n",
      " 6   Position                             1857 non-null   object \n",
      " 7   Jersey                               800 non-null    float64\n",
      " 8   Catches                              203 non-null    object \n",
      " 9   Shoots                               1651 non-null   object \n",
      " 10  Height                               1857 non-null   int64  \n",
      " 11  Weight                               1857 non-null   int64  \n",
      " 12  BirthDate                            1856 non-null   object \n",
      " 13  BirthCity                            1853 non-null   object \n",
      " 14  BirthState                           1378 non-null   object \n",
      " 15  PhotoUrl                             1857 non-null   object \n",
      " 16  SportRadarPlayerID                   1857 non-null   object \n",
      " 17  RotoworldPlayerID                    609 non-null    float64\n",
      " 18  RotoWirePlayerID                     1503 non-null   float64\n",
      " 19  FantasyAlarmPlayerID                 445 non-null    float64\n",
      " 20  StatsPlayerID                        1626 non-null   float64\n",
      " 21  SportsDirectPlayerID                 1612 non-null   float64\n",
      " 22  XmlTeamPlayerID                      1062 non-null   float64\n",
      " 23  InjuryStatus                         1857 non-null   object \n",
      " 24  InjuryBodyPart                       1857 non-null   object \n",
      " 25  InjuryStartDate                      112 non-null    object \n",
      " 26  InjuryNotes                          1857 non-null   object \n",
      " 27  FanDuelPlayerID                      1796 non-null   float64\n",
      " 28  DraftKingsPlayerID                   1793 non-null   float64\n",
      " 29  YahooPlayerID                        1816 non-null   float64\n",
      " 30  FanDuelName                          1795 non-null   object \n",
      " 31  DraftKingsName                       1793 non-null   object \n",
      " 32  YahooName                            1322 non-null   object \n",
      " 33  DepthChartPosition                   663 non-null    object \n",
      " 34  DepthChartOrder                      663 non-null    float64\n",
      " 35  GlobalTeamID                         1857 non-null   int64  \n",
      " 36  FantasyDraftName                     763 non-null    object \n",
      " 37  FantasyDraftPlayerID                 763 non-null    float64\n",
      " 38  UsaTodayPlayerID                     1612 non-null   float64\n",
      " 39  UsaTodayHeadshotUrl                  1041 non-null   object \n",
      " 40  UsaTodayHeadshotNoBackgroundUrl      1011 non-null   object \n",
      " 41  UsaTodayHeadshotUpdated              1040 non-null   object \n",
      " 42  UsaTodayHeadshotNoBackgroundUpdated  1010 non-null   object \n",
      "dtypes: float64(13), int64(5), object(25)\n",
      "memory usage: 624.0+ KB\n"
     ]
    }
   ],
   "source": [
    "players_active_df.info()"
   ]
  },
  {
   "cell_type": "markdown",
   "metadata": {},
   "source": [
    "Transform"
   ]
  },
  {
   "cell_type": "code",
   "execution_count": 15,
   "metadata": {},
   "outputs": [
    {
     "name": "stdout",
     "output_type": "stream",
     "text": [
      "   PlayerID FirstName    LastName           Status  TeamID Team Position  \\\n",
      "0  30000007     Carey       Price  Injured Reserve       4  MON        G   \n",
      "1  30000012      Lars       Eller           Active      14  PIT        C   \n",
      "2  30000015   Brendan   Gallagher           Active       4  MON       RW   \n",
      "3  30000019       Max  Pacioretty           Active      15  WAS       LW   \n",
      "4  30000031     Peter     Holland           Minors      19  COL        C   \n",
      "\n",
      "   Height  Weight   BirthDate      BirthPlace  \n",
      "0      75     217  08/16/1987  Anahim Lake,BC  \n",
      "1      74     205  05/08/1989         Rodovre  \n",
      "2      69     183  05/06/1992     Edmonton,AB  \n",
      "3      74     217  11/20/1988   New Canaan,CT  \n",
      "4      74     193  01/14/1991      Toronto,ON  \n",
      "<class 'pandas.core.frame.DataFrame'>\n",
      "RangeIndex: 1857 entries, 0 to 1856\n",
      "Data columns (total 11 columns):\n",
      " #   Column      Non-Null Count  Dtype \n",
      "---  ------      --------------  ----- \n",
      " 0   PlayerID    1857 non-null   int64 \n",
      " 1   FirstName   1857 non-null   object\n",
      " 2   LastName    1857 non-null   object\n",
      " 3   Status      1857 non-null   object\n",
      " 4   TeamID      1857 non-null   int64 \n",
      " 5   Team        1857 non-null   object\n",
      " 6   Position    1857 non-null   object\n",
      " 7   Height      1857 non-null   int64 \n",
      " 8   Weight      1857 non-null   int64 \n",
      " 9   BirthDate   1856 non-null   object\n",
      " 10  BirthPlace  1857 non-null   object\n",
      "dtypes: int64(4), object(7)\n",
      "memory usage: 159.7+ KB\n",
      "None\n"
     ]
    },
    {
     "name": "stderr",
     "output_type": "stream",
     "text": [
      "C:\\Users\\lenar\\AppData\\Local\\Temp\\ipykernel_11660\\2006416865.py:7: SettingWithCopyWarning: \n",
      "A value is trying to be set on a copy of a slice from a DataFrame\n",
      "\n",
      "See the caveats in the documentation: https://pandas.pydata.org/pandas-docs/stable/user_guide/indexing.html#returning-a-view-versus-a-copy\n",
      "  df.drop_duplicates(subset='PlayerID', inplace=True)\n",
      "C:\\Users\\lenar\\AppData\\Local\\Temp\\ipykernel_11660\\2006416865.py:11: SettingWithCopyWarning: \n",
      "A value is trying to be set on a copy of a slice from a DataFrame.\n",
      "Try using .loc[row_indexer,col_indexer] = value instead\n",
      "\n",
      "See the caveats in the documentation: https://pandas.pydata.org/pandas-docs/stable/user_guide/indexing.html#returning-a-view-versus-a-copy\n",
      "  df['BirthPlace'] = df.apply(lambda row: ','.join(filter(None, [row['BirthCity'], row['BirthState']])), axis=1)\n",
      "C:\\Users\\lenar\\AppData\\Local\\Temp\\ipykernel_11660\\2006416865.py:14: SettingWithCopyWarning: \n",
      "A value is trying to be set on a copy of a slice from a DataFrame.\n",
      "Try using .loc[row_indexer,col_indexer] = value instead\n",
      "\n",
      "See the caveats in the documentation: https://pandas.pydata.org/pandas-docs/stable/user_guide/indexing.html#returning-a-view-versus-a-copy\n",
      "  df['BirthDate'] = pd.to_datetime(df['BirthDate']).dt.strftime('%m/%d/%Y')\n",
      "C:\\Users\\lenar\\AppData\\Local\\Temp\\ipykernel_11660\\2006416865.py:17: SettingWithCopyWarning: \n",
      "A value is trying to be set on a copy of a slice from a DataFrame\n",
      "\n",
      "See the caveats in the documentation: https://pandas.pydata.org/pandas-docs/stable/user_guide/indexing.html#returning-a-view-versus-a-copy\n",
      "  df.drop(['BirthCity', 'BirthState'], axis=1, inplace=True)\n"
     ]
    }
   ],
   "source": [
    "def transform_players_active_df_v2(df):\n",
    "    # Step 1: Select only the relevant columns. Adjust this list as per your requirement.\n",
    "    relevant_columns = ['PlayerID', 'FirstName', 'LastName', 'Status', 'TeamID', 'Team', 'Position', 'Height', 'Weight', 'BirthDate', 'BirthCity', 'BirthState']\n",
    "    df = df[relevant_columns]\n",
    "\n",
    "    # Step 2: Drop duplicates based on 'PlayerID'\n",
    "    df.drop_duplicates(subset='PlayerID', inplace=True)\n",
    "\n",
    "    # Step 3: Combine 'BirthCity' and 'BirthState' into 'BirthPlace'\n",
    "    # Use a lambda function to handle rows where either city or state might be missing\n",
    "    df['BirthPlace'] = df.apply(lambda row: ','.join(filter(None, [row['BirthCity'], row['BirthState']])), axis=1)\n",
    "    \n",
    "    # Format BirthDate to mm/dd/yyyy\n",
    "    df['BirthDate'] = pd.to_datetime(df['BirthDate']).dt.strftime('%m/%d/%Y')\n",
    "\n",
    "    # Now, you can drop the original 'BirthCity' and 'BirthState' columns as they're no longer needed\n",
    "    df.drop(['BirthCity', 'BirthState'], axis=1, inplace=True)\n",
    "\n",
    "    # Inspect the transformed DataFrame (Step 4)\n",
    "    print(df.head())\n",
    "    print(df.info())\n",
    "\n",
    "    return df\n",
    "\n",
    "# Apply the transformation function\n",
    "players_active_df_transformed = transform_players_active_df_v2(players_active_df)\n",
    "\n",
    "# This will print the first few rows of the transformed DataFrame and its info, allowing you to inspect it and decide how to proceed.\n"
   ]
  },
  {
   "cell_type": "code",
   "execution_count": 16,
   "metadata": {},
   "outputs": [
    {
     "name": "stdout",
     "output_type": "stream",
     "text": [
      "<class 'pandas.core.frame.DataFrame'>\n",
      "RangeIndex: 1857 entries, 0 to 1856\n",
      "Data columns (total 11 columns):\n",
      " #   Column      Non-Null Count  Dtype \n",
      "---  ------      --------------  ----- \n",
      " 0   PlayerID    1857 non-null   int64 \n",
      " 1   FirstName   1857 non-null   object\n",
      " 2   LastName    1857 non-null   object\n",
      " 3   Status      1857 non-null   object\n",
      " 4   TeamID      1857 non-null   int64 \n",
      " 5   Team        1857 non-null   object\n",
      " 6   Position    1857 non-null   object\n",
      " 7   Height      1857 non-null   int64 \n",
      " 8   Weight      1857 non-null   int64 \n",
      " 9   BirthDate   1856 non-null   object\n",
      " 10  BirthPlace  1857 non-null   object\n",
      "dtypes: int64(4), object(7)\n",
      "memory usage: 159.7+ KB\n"
     ]
    }
   ],
   "source": [
    "players_active_df_transformed.info()"
   ]
  },
  {
   "cell_type": "code",
   "execution_count": null,
   "metadata": {},
   "outputs": [],
   "source": [
    "import psycopg2\n",
    "\n",
    "def load_data_to_db(transformed_data):\n",
    "    conn = psycopg2.connect(\"dbname=NHL\" user=)"
   ]
  },
  {
   "cell_type": "code",
   "execution_count": 3,
   "metadata": {},
   "outputs": [
    {
     "name": "stdout",
     "output_type": "stream",
     "text": [
      "Error: Could not make connection to PostGreSQL database\n",
      "fe_sendauth: no password supplied\n",
      "\n"
     ]
    }
   ],
   "source": [
    "# Establish database connection\n",
    "\n",
    "import psycopg2\n",
    "\n",
    "def create_connection():\n",
    "    try:\n",
    "        conn = psycopg2.connect(\n",
    "            dbname='NHL',\n",
    "            user='postgres',\n",
    "            password='',\n",
    "            host='localhost'\n",
    "\n",
    "        )\n",
    "        print(\"Successfully connected to the database.\")\n",
    "        return conn\n",
    "    except psycopg2.Error as e:\n",
    "        print(f'Error: Could not make connection to PostGreSQL database')\n",
    "        print(e)\n",
    "\n",
    "conn = create_connection()"
   ]
  }
 ],
 "metadata": {
  "kernelspec": {
   "display_name": "Dev",
   "language": "python",
   "name": "python3"
  },
  "language_info": {
   "codemirror_mode": {
    "name": "ipython",
    "version": 3
   },
   "file_extension": ".py",
   "mimetype": "text/x-python",
   "name": "python",
   "nbconvert_exporter": "python",
   "pygments_lexer": "ipython3",
   "version": "3.11.8"
  }
 },
 "nbformat": 4,
 "nbformat_minor": 2
}
