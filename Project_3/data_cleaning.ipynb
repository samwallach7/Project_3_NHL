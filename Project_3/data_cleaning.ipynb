{
 "cells": [
  {
   "cell_type": "code",
   "execution_count": 1,
   "metadata": {},
   "outputs": [],
   "source": [
    "# Import necessary libraries\n",
    "import pandas as pd\n",
    "import numpy as np\n"
   ]
  },
  {
   "cell_type": "code",
   "execution_count": 4,
   "metadata": {},
   "outputs": [
    {
     "name": "stdout",
     "output_type": "stream",
     "text": [
      "    playerID     award  year lgID note  pos\n",
      "0  malonjo01  Art Ross  1917  NHL  NaN  NaN\n",
      "1  cleghod01  Art Ross  1918  NHL  NaN  NaN\n"
     ]
    },
    {
     "data": {
      "text/html": [
       "<div>\n",
       "<style scoped>\n",
       "    .dataframe tbody tr th:only-of-type {\n",
       "        vertical-align: middle;\n",
       "    }\n",
       "\n",
       "    .dataframe tbody tr th {\n",
       "        vertical-align: top;\n",
       "    }\n",
       "\n",
       "    .dataframe thead th {\n",
       "        text-align: right;\n",
       "    }\n",
       "</style>\n",
       "<table border=\"1\" class=\"dataframe\">\n",
       "  <thead>\n",
       "    <tr style=\"text-align: right;\">\n",
       "      <th></th>\n",
       "      <th>playerID</th>\n",
       "      <th>award</th>\n",
       "      <th>year</th>\n",
       "      <th>lgID</th>\n",
       "      <th>note</th>\n",
       "      <th>pos</th>\n",
       "    </tr>\n",
       "  </thead>\n",
       "  <tbody>\n",
       "    <tr>\n",
       "      <th>0</th>\n",
       "      <td>malonjo01</td>\n",
       "      <td>Art Ross</td>\n",
       "      <td>1917</td>\n",
       "      <td>NHL</td>\n",
       "      <td>NaN</td>\n",
       "      <td>NaN</td>\n",
       "    </tr>\n",
       "    <tr>\n",
       "      <th>1</th>\n",
       "      <td>cleghod01</td>\n",
       "      <td>Art Ross</td>\n",
       "      <td>1918</td>\n",
       "      <td>NHL</td>\n",
       "      <td>NaN</td>\n",
       "      <td>NaN</td>\n",
       "    </tr>\n",
       "    <tr>\n",
       "      <th>2</th>\n",
       "      <td>malonjo01</td>\n",
       "      <td>Art Ross</td>\n",
       "      <td>1919</td>\n",
       "      <td>NHL</td>\n",
       "      <td>NaN</td>\n",
       "      <td>NaN</td>\n",
       "    </tr>\n",
       "    <tr>\n",
       "      <th>3</th>\n",
       "      <td>lalonne01</td>\n",
       "      <td>Art Ross</td>\n",
       "      <td>1920</td>\n",
       "      <td>NHL</td>\n",
       "      <td>NaN</td>\n",
       "      <td>NaN</td>\n",
       "    </tr>\n",
       "    <tr>\n",
       "      <th>4</th>\n",
       "      <td>broadpu01</td>\n",
       "      <td>Art Ross</td>\n",
       "      <td>1921</td>\n",
       "      <td>NHL</td>\n",
       "      <td>NaN</td>\n",
       "      <td>NaN</td>\n",
       "    </tr>\n",
       "  </tbody>\n",
       "</table>\n",
       "</div>"
      ],
      "text/plain": [
       "    playerID     award  year lgID note  pos\n",
       "0  malonjo01  Art Ross  1917  NHL  NaN  NaN\n",
       "1  cleghod01  Art Ross  1918  NHL  NaN  NaN\n",
       "2  malonjo01  Art Ross  1919  NHL  NaN  NaN\n",
       "3  lalonne01  Art Ross  1920  NHL  NaN  NaN\n",
       "4  broadpu01  Art Ross  1921  NHL  NaN  NaN"
      ]
     },
     "execution_count": 4,
     "metadata": {},
     "output_type": "execute_result"
    }
   ],
   "source": [
    "# Full absolute path to the csv file\n",
    "file_path = r'C:\\Users\\lenar\\OneDrive\\Documents\\Data _Bootcamp\\Project_3\\Project_3_NHL\\Project_3_NHL\\Project_3\\AwardsPlayers.csv'\n",
    "\n",
    "# Read Excel file into a DataFrame\n",
    "try:\n",
    "    player_awards_df = pd.read_csv(file_path)\n",
    "    print(player_awards_df.head(2))  # Display first few rows to verify\n",
    "except FileNotFoundError:\n",
    "    print(\"File not found at the specified location.\")\n",
    "\n",
    "#Read the data into a Pandas DataFrame\n",
    "player_awards_df = pd.read_csv(file_path)\n",
    "player_awards_df.head()"
   ]
  },
  {
   "cell_type": "code",
   "execution_count": 5,
   "metadata": {},
   "outputs": [
    {
     "name": "stdout",
     "output_type": "stream",
     "text": [
      "<class 'pandas.core.frame.DataFrame'>\n",
      "RangeIndex: 2091 entries, 0 to 2090\n",
      "Data columns (total 6 columns):\n",
      " #   Column    Non-Null Count  Dtype \n",
      "---  ------    --------------  ----- \n",
      " 0   playerID  2091 non-null   object\n",
      " 1   award     2091 non-null   object\n",
      " 2   year      2091 non-null   int64 \n",
      " 3   lgID      2091 non-null   object\n",
      " 4   note      127 non-null    object\n",
      " 5   pos       1231 non-null   object\n",
      "dtypes: int64(1), object(5)\n",
      "memory usage: 98.1+ KB\n"
     ]
    }
   ],
   "source": [
    "# Get a brief summary \n",
    "player_awards_df.info()"
   ]
  },
  {
   "cell_type": "code",
   "execution_count": 7,
   "metadata": {},
   "outputs": [
    {
     "data": {
      "text/plain": [
       "playerID\n",
       "<class 'str'>    2091\n",
       "Name: count, dtype: int64"
      ]
     },
     "execution_count": 7,
     "metadata": {},
     "output_type": "execute_result"
    }
   ],
   "source": [
    "player_awards_df['playerID'].apply(type).value_counts()"
   ]
  },
  {
   "cell_type": "code",
   "execution_count": 8,
   "metadata": {},
   "outputs": [],
   "source": [
    "output_file = r'C:\\Users\\lenar\\OneDrive\\Documents\\Data _Bootcamp\\Project_3\\Project_3_NHL\\Project_3_NHL\\Project_3\\Cleaned_Player_Awards.csv'"
   ]
  },
  {
   "cell_type": "code",
   "execution_count": 28,
   "metadata": {},
   "outputs": [
    {
     "name": "stdout",
     "output_type": "stream",
     "text": [
      "The 'note' column does not exist in the DataFrame.\n"
     ]
    },
    {
     "data": {
      "text/html": [
       "<div>\n",
       "<style scoped>\n",
       "    .dataframe tbody tr th:only-of-type {\n",
       "        vertical-align: middle;\n",
       "    }\n",
       "\n",
       "    .dataframe tbody tr th {\n",
       "        vertical-align: top;\n",
       "    }\n",
       "\n",
       "    .dataframe thead th {\n",
       "        text-align: right;\n",
       "    }\n",
       "</style>\n",
       "<table border=\"1\" class=\"dataframe\">\n",
       "  <thead>\n",
       "    <tr style=\"text-align: right;\">\n",
       "      <th></th>\n",
       "      <th>playerID</th>\n",
       "      <th>award</th>\n",
       "      <th>year</th>\n",
       "      <th>lgID</th>\n",
       "      <th>pos</th>\n",
       "      <th>UniqueID</th>\n",
       "    </tr>\n",
       "  </thead>\n",
       "  <tbody>\n",
       "    <tr>\n",
       "      <th>0</th>\n",
       "      <td>malonjo01</td>\n",
       "      <td>Art Ross</td>\n",
       "      <td>1917</td>\n",
       "      <td>NHL</td>\n",
       "      <td>NaN</td>\n",
       "      <td>1271087529</td>\n",
       "    </tr>\n",
       "    <tr>\n",
       "      <th>1</th>\n",
       "      <td>cleghod01</td>\n",
       "      <td>Art Ross</td>\n",
       "      <td>1918</td>\n",
       "      <td>NHL</td>\n",
       "      <td>NaN</td>\n",
       "      <td>2351583696</td>\n",
       "    </tr>\n",
       "    <tr>\n",
       "      <th>2</th>\n",
       "      <td>malonjo01</td>\n",
       "      <td>Art Ross</td>\n",
       "      <td>1919</td>\n",
       "      <td>NHL</td>\n",
       "      <td>NaN</td>\n",
       "      <td>2558019028</td>\n",
       "    </tr>\n",
       "    <tr>\n",
       "      <th>3</th>\n",
       "      <td>lalonne01</td>\n",
       "      <td>Art Ross</td>\n",
       "      <td>1920</td>\n",
       "      <td>NHL</td>\n",
       "      <td>NaN</td>\n",
       "      <td>3770123917</td>\n",
       "    </tr>\n",
       "    <tr>\n",
       "      <th>4</th>\n",
       "      <td>broadpu01</td>\n",
       "      <td>Art Ross</td>\n",
       "      <td>1921</td>\n",
       "      <td>NHL</td>\n",
       "      <td>NaN</td>\n",
       "      <td>199245795</td>\n",
       "    </tr>\n",
       "  </tbody>\n",
       "</table>\n",
       "</div>"
      ],
      "text/plain": [
       "    playerID     award  year lgID  pos    UniqueID\n",
       "0  malonjo01  Art Ross  1917  NHL  NaN  1271087529\n",
       "1  cleghod01  Art Ross  1918  NHL  NaN  2351583696\n",
       "2  malonjo01  Art Ross  1919  NHL  NaN  2558019028\n",
       "3  lalonne01  Art Ross  1920  NHL  NaN  3770123917\n",
       "4  broadpu01  Art Ross  1921  NHL  NaN   199245795"
      ]
     },
     "execution_count": 28,
     "metadata": {},
     "output_type": "execute_result"
    }
   ],
   "source": [
    "# Drop the 'note' column if it exists\n",
    "if 'note' in player_awards_df.columns:\n",
    "            player_awards_df = player_awards_df.drop(columns=['note'])\n",
    "            print(\"The 'note' column has been dropped.\")\n",
    "else:\n",
    "            #cleaned_df = player_awards_df.copy() \n",
    "            print(\"The 'note' column does not exist in the DataFrame.\")\n",
    "\n",
    "player_awards_df.head()"
   ]
  },
  {
   "cell_type": "code",
   "execution_count": 27,
   "metadata": {},
   "outputs": [
    {
     "name": "stdout",
     "output_type": "stream",
     "text": [
      "No duplicates found.\n"
     ]
    },
    {
     "data": {
      "text/html": [
       "<div>\n",
       "<style scoped>\n",
       "    .dataframe tbody tr th:only-of-type {\n",
       "        vertical-align: middle;\n",
       "    }\n",
       "\n",
       "    .dataframe tbody tr th {\n",
       "        vertical-align: top;\n",
       "    }\n",
       "\n",
       "    .dataframe thead th {\n",
       "        text-align: right;\n",
       "    }\n",
       "</style>\n",
       "<table border=\"1\" class=\"dataframe\">\n",
       "  <thead>\n",
       "    <tr style=\"text-align: right;\">\n",
       "      <th></th>\n",
       "      <th>playerID</th>\n",
       "      <th>award</th>\n",
       "      <th>year</th>\n",
       "      <th>lgID</th>\n",
       "      <th>pos</th>\n",
       "      <th>UniqueID</th>\n",
       "    </tr>\n",
       "  </thead>\n",
       "  <tbody>\n",
       "    <tr>\n",
       "      <th>0</th>\n",
       "      <td>malonjo01</td>\n",
       "      <td>Art Ross</td>\n",
       "      <td>1917</td>\n",
       "      <td>NHL</td>\n",
       "      <td>NaN</td>\n",
       "      <td>1271087529</td>\n",
       "    </tr>\n",
       "    <tr>\n",
       "      <th>1</th>\n",
       "      <td>cleghod01</td>\n",
       "      <td>Art Ross</td>\n",
       "      <td>1918</td>\n",
       "      <td>NHL</td>\n",
       "      <td>NaN</td>\n",
       "      <td>2351583696</td>\n",
       "    </tr>\n",
       "    <tr>\n",
       "      <th>2</th>\n",
       "      <td>malonjo01</td>\n",
       "      <td>Art Ross</td>\n",
       "      <td>1919</td>\n",
       "      <td>NHL</td>\n",
       "      <td>NaN</td>\n",
       "      <td>2558019028</td>\n",
       "    </tr>\n",
       "    <tr>\n",
       "      <th>3</th>\n",
       "      <td>lalonne01</td>\n",
       "      <td>Art Ross</td>\n",
       "      <td>1920</td>\n",
       "      <td>NHL</td>\n",
       "      <td>NaN</td>\n",
       "      <td>3770123917</td>\n",
       "    </tr>\n",
       "    <tr>\n",
       "      <th>4</th>\n",
       "      <td>broadpu01</td>\n",
       "      <td>Art Ross</td>\n",
       "      <td>1921</td>\n",
       "      <td>NHL</td>\n",
       "      <td>NaN</td>\n",
       "      <td>199245795</td>\n",
       "    </tr>\n",
       "  </tbody>\n",
       "</table>\n",
       "</div>"
      ],
      "text/plain": [
       "    playerID     award  year lgID  pos    UniqueID\n",
       "0  malonjo01  Art Ross  1917  NHL  NaN  1271087529\n",
       "1  cleghod01  Art Ross  1918  NHL  NaN  2351583696\n",
       "2  malonjo01  Art Ross  1919  NHL  NaN  2558019028\n",
       "3  lalonne01  Art Ross  1920  NHL  NaN  3770123917\n",
       "4  broadpu01  Art Ross  1921  NHL  NaN   199245795"
      ]
     },
     "execution_count": 27,
     "metadata": {},
     "output_type": "execute_result"
    }
   ],
   "source": [
    "# Check for duplicates in 'playerID', 'award', and 'year' columns\n",
    "duplicates = player_awards_df[player_awards_df.duplicated(subset=['playerID', 'award', 'year'], keep=False)]\n",
    "        \n",
    "        # If duplicates exist, drop them\n",
    "if not duplicates.empty:\n",
    "            player_awards_df = player_awards_df.drop_duplicates(subset=['playerID', 'award', 'year'], keep='first')\n",
    "            print(\"Duplicates removed.\")\n",
    "else:\n",
    "            #cleaned_df_no_duplicates = cleaned_df.copy()\n",
    "            print(\"No duplicates found.\")\n",
    "\n",
    "player_awards_df.head()"
   ]
  },
  {
   "cell_type": "code",
   "execution_count": 31,
   "metadata": {},
   "outputs": [
    {
     "data": {
      "text/html": [
       "<div>\n",
       "<style scoped>\n",
       "    .dataframe tbody tr th:only-of-type {\n",
       "        vertical-align: middle;\n",
       "    }\n",
       "\n",
       "    .dataframe tbody tr th {\n",
       "        vertical-align: top;\n",
       "    }\n",
       "\n",
       "    .dataframe thead th {\n",
       "        text-align: right;\n",
       "    }\n",
       "</style>\n",
       "<table border=\"1\" class=\"dataframe\">\n",
       "  <thead>\n",
       "    <tr style=\"text-align: right;\">\n",
       "      <th></th>\n",
       "      <th>playerID</th>\n",
       "      <th>award</th>\n",
       "      <th>year</th>\n",
       "      <th>lgID</th>\n",
       "      <th>pos</th>\n",
       "      <th>UniqueID</th>\n",
       "    </tr>\n",
       "  </thead>\n",
       "  <tbody>\n",
       "    <tr>\n",
       "      <th>0</th>\n",
       "      <td>malonjo01</td>\n",
       "      <td>Art Ross</td>\n",
       "      <td>1917</td>\n",
       "      <td>NHL</td>\n",
       "      <td>n/a</td>\n",
       "      <td>1271087529</td>\n",
       "    </tr>\n",
       "    <tr>\n",
       "      <th>1</th>\n",
       "      <td>cleghod01</td>\n",
       "      <td>Art Ross</td>\n",
       "      <td>1918</td>\n",
       "      <td>NHL</td>\n",
       "      <td>n/a</td>\n",
       "      <td>2351583696</td>\n",
       "    </tr>\n",
       "    <tr>\n",
       "      <th>2</th>\n",
       "      <td>malonjo01</td>\n",
       "      <td>Art Ross</td>\n",
       "      <td>1919</td>\n",
       "      <td>NHL</td>\n",
       "      <td>n/a</td>\n",
       "      <td>2558019028</td>\n",
       "    </tr>\n",
       "    <tr>\n",
       "      <th>3</th>\n",
       "      <td>lalonne01</td>\n",
       "      <td>Art Ross</td>\n",
       "      <td>1920</td>\n",
       "      <td>NHL</td>\n",
       "      <td>n/a</td>\n",
       "      <td>3770123917</td>\n",
       "    </tr>\n",
       "    <tr>\n",
       "      <th>4</th>\n",
       "      <td>broadpu01</td>\n",
       "      <td>Art Ross</td>\n",
       "      <td>1921</td>\n",
       "      <td>NHL</td>\n",
       "      <td>n/a</td>\n",
       "      <td>199245795</td>\n",
       "    </tr>\n",
       "  </tbody>\n",
       "</table>\n",
       "</div>"
      ],
      "text/plain": [
       "    playerID     award  year lgID  pos    UniqueID\n",
       "0  malonjo01  Art Ross  1917  NHL  n/a  1271087529\n",
       "1  cleghod01  Art Ross  1918  NHL  n/a  2351583696\n",
       "2  malonjo01  Art Ross  1919  NHL  n/a  2558019028\n",
       "3  lalonne01  Art Ross  1920  NHL  n/a  3770123917\n",
       "4  broadpu01  Art Ross  1921  NHL  n/a   199245795"
      ]
     },
     "execution_count": 31,
     "metadata": {},
     "output_type": "execute_result"
    }
   ],
   "source": [
    "# Fill blank cells in the 'pos' column with 'n/a'\n",
    "player_awards_df['pos'].fillna('n/a', inplace=True)\n",
    "\n",
    "player_awards_df.head()"
   ]
  },
  {
   "cell_type": "code",
   "execution_count": 32,
   "metadata": {},
   "outputs": [
    {
     "data": {
      "text/html": [
       "<div>\n",
       "<style scoped>\n",
       "    .dataframe tbody tr th:only-of-type {\n",
       "        vertical-align: middle;\n",
       "    }\n",
       "\n",
       "    .dataframe tbody tr th {\n",
       "        vertical-align: top;\n",
       "    }\n",
       "\n",
       "    .dataframe thead th {\n",
       "        text-align: right;\n",
       "    }\n",
       "</style>\n",
       "<table border=\"1\" class=\"dataframe\">\n",
       "  <thead>\n",
       "    <tr style=\"text-align: right;\">\n",
       "      <th></th>\n",
       "      <th>UniqueID</th>\n",
       "      <th>playerID</th>\n",
       "      <th>award</th>\n",
       "      <th>year</th>\n",
       "      <th>lgID</th>\n",
       "      <th>pos</th>\n",
       "    </tr>\n",
       "  </thead>\n",
       "  <tbody>\n",
       "    <tr>\n",
       "      <th>0</th>\n",
       "      <td>1271087529</td>\n",
       "      <td>malonjo01</td>\n",
       "      <td>Art Ross</td>\n",
       "      <td>1917</td>\n",
       "      <td>NHL</td>\n",
       "      <td>n/a</td>\n",
       "    </tr>\n",
       "    <tr>\n",
       "      <th>1</th>\n",
       "      <td>2351583696</td>\n",
       "      <td>cleghod01</td>\n",
       "      <td>Art Ross</td>\n",
       "      <td>1918</td>\n",
       "      <td>NHL</td>\n",
       "      <td>n/a</td>\n",
       "    </tr>\n",
       "    <tr>\n",
       "      <th>2</th>\n",
       "      <td>2558019028</td>\n",
       "      <td>malonjo01</td>\n",
       "      <td>Art Ross</td>\n",
       "      <td>1919</td>\n",
       "      <td>NHL</td>\n",
       "      <td>n/a</td>\n",
       "    </tr>\n",
       "    <tr>\n",
       "      <th>3</th>\n",
       "      <td>3770123917</td>\n",
       "      <td>lalonne01</td>\n",
       "      <td>Art Ross</td>\n",
       "      <td>1920</td>\n",
       "      <td>NHL</td>\n",
       "      <td>n/a</td>\n",
       "    </tr>\n",
       "    <tr>\n",
       "      <th>4</th>\n",
       "      <td>199245795</td>\n",
       "      <td>broadpu01</td>\n",
       "      <td>Art Ross</td>\n",
       "      <td>1921</td>\n",
       "      <td>NHL</td>\n",
       "      <td>n/a</td>\n",
       "    </tr>\n",
       "  </tbody>\n",
       "</table>\n",
       "</div>"
      ],
      "text/plain": [
       "     UniqueID   playerID     award  year lgID  pos\n",
       "0  1271087529  malonjo01  Art Ross  1917  NHL  n/a\n",
       "1  2351583696  cleghod01  Art Ross  1918  NHL  n/a\n",
       "2  2558019028  malonjo01  Art Ross  1919  NHL  n/a\n",
       "3  3770123917  lalonne01  Art Ross  1920  NHL  n/a\n",
       "4   199245795  broadpu01  Art Ross  1921  NHL  n/a"
      ]
     },
     "execution_count": 32,
     "metadata": {},
     "output_type": "execute_result"
    }
   ],
   "source": [
    "# Define the new order of columns\n",
    "new_column_order = ['UniqueID', 'playerID', 'award', 'year', 'lgID', 'pos']\n",
    "\n",
    "# Reorder the columns in the DataFrame\n",
    "player_awards_df = player_awards_df[new_column_order]\n",
    "\n",
    "player_awards_df.head()\n"
   ]
  },
  {
   "cell_type": "code",
   "execution_count": 35,
   "metadata": {},
   "outputs": [
    {
     "name": "stdout",
     "output_type": "stream",
     "text": [
      "<class 'pandas.core.frame.DataFrame'>\n",
      "RangeIndex: 2091 entries, 0 to 2090\n",
      "Data columns (total 6 columns):\n",
      " #   Column    Non-Null Count  Dtype \n",
      "---  ------    --------------  ----- \n",
      " 0   UniqueID  2091 non-null   int64 \n",
      " 1   playerID  2091 non-null   object\n",
      " 2   award     2091 non-null   object\n",
      " 3   year      2091 non-null   int64 \n",
      " 4   lgID      2091 non-null   object\n",
      " 5   pos       2091 non-null   object\n",
      "dtypes: int64(2), object(4)\n",
      "memory usage: 98.1+ KB\n"
     ]
    }
   ],
   "source": [
    "# Convert the \"Year\" column to numeric, coercing errors to NaN\n",
    "player_awards_df['year'] = pd.to_numeric(player_awards_df['year'], errors='coerce')\n",
    "\n",
    "# Filter out NaN values to keep only valid integers\n",
    "player_awards_df = player_awards_df.dropna(subset=['year'])\n",
    "\n",
    "# Convert the \"Year\" column back to integers (if needed)\n",
    "player_awards_df['year'] = player_awards_df['year'].astype('int64')\n",
    "\n",
    "# Now, player_awards_df contains only rows where the \"Year\" column has valid integer values\n",
    "\n",
    "player_awards_df.info()"
   ]
  },
  {
   "cell_type": "code",
   "execution_count": 33,
   "metadata": {},
   "outputs": [
    {
     "name": "stdout",
     "output_type": "stream",
     "text": [
      "Cleaned data saved to C:\\Users\\lenar\\OneDrive\\Documents\\Data _Bootcamp\\Project_3\\Project_3_NHL\\Project_3_NHL\\Project_3\\Cleaned_Player_Awards.csv\n"
     ]
    }
   ],
   "source": [
    "# Save the cleaned DataFrame to a CSV file\n",
    "try:\n",
    "    player_awards_df.to_csv(output_file, index=False)\n",
    "    print(f\"Cleaned data saved to {output_file}\")\n",
    "except Exception as e:\n",
    "    print(f\"An error occurred while saving the cleaned data: {str(e)}\")\n",
    "\n"
   ]
  },
  {
   "cell_type": "code",
   "execution_count": 14,
   "metadata": {},
   "outputs": [],
   "source": [
    "# Clean and save data\n",
    "import pandas as pd\n",
    "\n",
    "def clean_and_save_data(player_awards_df, output_file):\n",
    "\n",
    "    #Cleans the input DataFrame by dropping the 'name' column, checking for duplicates in 'playerID', 'award', and 'year',\n",
    "    #and dropping those duplicates. Saves the cleaned DataFrame to a CSV file.\n",
    "\n",
    "    #Args:\n",
    "        #df (pandas.DataFrame): Input DataFrame.\n",
    "        #output_file (str): Path to save the cleaned CSV file.\n",
    "\n",
    "    #Returns:\n",
    "        #None\n",
    "\n",
    "    try:\n",
    "        # Drop the 'note' column if it exists\n",
    "        if 'note' in player_awards_df.columns:\n",
    "            player_awards_df = player_awards_df.drop(columns=['note'])\n",
    "            print(\"The 'note' column has been dropped.\")\n",
    "        else:\n",
    "            #cleaned_df = player_awards_df.copy() \n",
    "            print(\"The 'note' column does not exist in the DataFrame.\")\n",
    "\n",
    "        # Check for duplicates in 'playerID', 'award', and 'year' columns\n",
    "        duplicates = player_awards_df[player_awards_df.duplicated(subset=['playerID', 'award', 'year'], keep=False)]\n",
    "        \n",
    "        # If duplicates exist, drop them\n",
    "        if not duplicates.empty:\n",
    "            player_awards_df = player_awards_df.drop_duplicates(subset=['playerID', 'award', 'year'], keep='first')\n",
    "            print(\"Duplicates removed.\")\n",
    "        else:\n",
    "            #cleaned_df_no_duplicates = cleaned_df.copy()\n",
    "            print(\"No duplicates found.\")\n",
    "\n",
    "        # Save the cleaned DataFrame to a CSV file\n",
    "        player_awards_df.to_csv(output_file, index=False)\n",
    "        print(f\"Cleaned data saved to {output_file}\")\n",
    "    except Exception as e:\n",
    "        print(f\"An error occurred: {str(e)}\")\n",
    "\n",
    "# Example usage:\n",
    "# Assuming you already have 'df' containing your data and 'output_file' specifying the output CSV file path\n",
    "# clean_and_save_data(df, output_file)\n",
    "        \n",
    "\n"
   ]
  },
  {
   "cell_type": "code",
   "execution_count": 19,
   "metadata": {},
   "outputs": [
    {
     "name": "stdout",
     "output_type": "stream",
     "text": [
      "The 'note' column has been dropped.\n",
      "No duplicates found.\n",
      "Cleaned data saved to C:\\Users\\lenar\\OneDrive\\Documents\\Data _Bootcamp\\Project_3\\Project_3_NHL\\Project_3_NHL\\Project_3\\Cleaned_Player_Awards.csv\n"
     ]
    }
   ],
   "source": [
    "\n",
    "# Call the clean_and_save_data function\n",
    "clean_and_save_data(player_awards_df, output_file)\n"
   ]
  },
  {
   "cell_type": "code",
   "execution_count": null,
   "metadata": {},
   "outputs": [],
   "source": [
    "player_awards_df.head()\n"
   ]
  },
  {
   "cell_type": "code",
   "execution_count": 36,
   "metadata": {},
   "outputs": [
    {
     "name": "stdout",
     "output_type": "stream",
     "text": [
      "      UniqueID   playerID                 award  year lgID  pos\n",
      "0            1  malonjo01              Art Ross  1917  NHL  n/a\n",
      "1            2  cleghod01              Art Ross  1918  NHL  n/a\n",
      "2            3  malonjo01              Art Ross  1919  NHL  n/a\n",
      "3            4  lalonne01              Art Ross  1920  NHL  n/a\n",
      "4            5  broadpu01              Art Ross  1921  NHL  n/a\n",
      "...        ...        ...                   ...   ...  ...  ...\n",
      "2086      2087  gretzwa01  Second Team All-Star  1978  WHA    C\n",
      "2087      2088  langeda01  Second Team All-Star  1978  WHA    D\n",
      "2088      2089  lukowmo01  Second Team All-Star  1978  WHA   LW\n",
      "2089      2090  macdobl01  Second Team All-Star  1978  WHA   RW\n",
      "2090      2091  shmyrpa01  Second Team All-Star  1978  WHA    D\n",
      "\n",
      "[2091 rows x 6 columns]\n"
     ]
    }
   ],
   "source": [
    "# Generate unique integer values for the UniqueID column within a specific range\n",
    "start_id = 1\n",
    "end_id = 1000  # Adjust the end_id value as needed\n",
    "player_awards_df['UniqueID'] = range(start_id, start_id + len(player_awards_df))\n",
    "\n",
    "# Display the DataFrame with the unique identifiers\n",
    "print(player_awards_df)\n"
   ]
  },
  {
   "cell_type": "code",
   "execution_count": 22,
   "metadata": {},
   "outputs": [
    {
     "name": "stdout",
     "output_type": "stream",
     "text": [
      "       playerID                 award  year lgID note  pos    UniqueID\n",
      "0     malonjo01              Art Ross  1917  NHL  NaN  NaN  1271087529\n",
      "1     cleghod01              Art Ross  1918  NHL  NaN  NaN  2351583696\n",
      "2     malonjo01              Art Ross  1919  NHL  NaN  NaN  2558019028\n",
      "3     lalonne01              Art Ross  1920  NHL  NaN  NaN  3770123917\n",
      "4     broadpu01              Art Ross  1921  NHL  NaN  NaN   199245795\n",
      "...         ...                   ...   ...  ...  ...  ...         ...\n",
      "2086  gretzwa01  Second Team All-Star  1978  WHA  NaN    C   923685446\n",
      "2087  langeda01  Second Team All-Star  1978  WHA  NaN    D    16605587\n",
      "2088  lukowmo01  Second Team All-Star  1978  WHA  NaN   LW  3102755038\n",
      "2089  macdobl01  Second Team All-Star  1978  WHA  NaN   RW  1435529561\n",
      "2090  shmyrpa01  Second Team All-Star  1978  WHA  NaN    D   786091709\n",
      "\n",
      "[2091 rows x 7 columns]\n"
     ]
    },
    {
     "name": "stderr",
     "output_type": "stream",
     "text": [
      "C:\\Users\\lenar\\AppData\\Local\\Temp\\ipykernel_16232\\3259925093.py:9: FutureWarning: Setting an item of incompatible dtype is deprecated and will raise in a future error of pandas. Value '-7385884403861077591' has dtype incompatible with int32, please explicitly cast to a compatible dtype first.\n",
      "  player_awards_df.at[index, 'UniqueID'] = unique_id\n"
     ]
    }
   ],
   "source": [
    "import numpy as np\n",
    "\n",
    "# Create a new column for the unique identifier\n",
    "player_awards_df['UniqueID'] = np.arange(1, len(player_awards_df) + 1)\n",
    "\n",
    "# Iterate over each row and generate a unique identifier based on PlayerID, Award, and Year\n",
    "for index, row in player_awards_df.iterrows():\n",
    "    unique_id = hash((row['playerID'], row['award'], row['year']))\n",
    "    player_awards_df.at[index, 'UniqueID'] = unique_id\n",
    "\n",
    "# Convert the unique identifier to a positive value\n",
    "player_awards_df['UniqueID'] = player_awards_df['UniqueID'].apply(lambda x: x & ((1 << 32) - 1))\n",
    "\n",
    "# Display the DataFrame with the unique identifiers\n",
    "print(player_awards_df)\n"
   ]
  },
  {
   "cell_type": "code",
   "execution_count": 37,
   "metadata": {},
   "outputs": [
    {
     "name": "stdout",
     "output_type": "stream",
     "text": [
      "Cleaned data saved to C:\\Users\\lenar\\OneDrive\\Documents\\Data _Bootcamp\\Project_3\\Project_3_NHL\\Project_3_NHL\\Project_3\\Cleaned_Player_Awards.csv\n"
     ]
    }
   ],
   "source": [
    "player_awards_df.to_csv(output_file, index=False)\n",
    "print(f\"Cleaned data saved to {output_file}\")"
   ]
  }
 ],
 "metadata": {
  "kernelspec": {
   "display_name": "Dev",
   "language": "python",
   "name": "python3"
  },
  "language_info": {
   "codemirror_mode": {
    "name": "ipython",
    "version": 3
   },
   "file_extension": ".py",
   "mimetype": "text/x-python",
   "name": "python",
   "nbconvert_exporter": "python",
   "pygments_lexer": "ipython3",
   "version": "3.11.7"
  }
 },
 "nbformat": 4,
 "nbformat_minor": 2
}
